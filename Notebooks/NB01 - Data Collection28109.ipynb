{
 "cells": [
  {
   "cell_type": "markdown",
   "metadata": {},
   "source": [
    "<font style='font-size:1.5em'>**✏️ W06 Summative - Data Collection** </font>\n",
    "\n",
    "<font style='font-size:0.75em'>DS105W – Data for Data Science</font>\n",
    "\n",
    "**Author:**  <28109>\n",
    "\n",
    "**Objectives:**\n",
    "- To collect data from allocated web pages\n",
    "- To put the data into a structured tabular format\n",
    "- To save the data into a CSV file\n"
   ]
  },
  {
   "cell_type": "markdown",
   "metadata": {},
   "source": [
    "# ⚙️ SETUP"
   ]
  },
  {
   "cell_type": "code",
   "execution_count": 45,
   "metadata": {},
   "outputs": [],
   "source": [
    "#Importing libraries\n",
    "import numpy as np\n",
    "import pandas as pd\n",
    "import os\n",
    "import requests\n",
    "import json\n",
    "import csv\n",
    "import shutil\n",
    "from scrapy import Selector\n",
    "from urllib.parse import urlparse\n"
   ]
  },
  {
   "cell_type": "code",
   "execution_count": 28,
   "metadata": {},
   "outputs": [],
   "source": [
    "CANDIDATE_NUMBER = 28109"
   ]
  },
  {
   "cell_type": "markdown",
   "metadata": {},
   "source": [
    "**Discover your unique assignment**"
   ]
  },
  {
   "cell_type": "code",
   "execution_count": 29,
   "metadata": {},
   "outputs": [
    {
     "name": "stdout",
     "output_type": "stream",
     "text": [
      "Your designated department is: Department of International Relations\n",
      "URL: http://www.lse.ac.uk/International-Relations\n"
     ]
    }
   ],
   "source": [
    "import sys\n",
    "sys.path.append('../')\n",
    "\n",
    "from lse import print_designated_lse_department\n",
    "\n",
    "print_designated_lse_department(CANDIDATE_NUMBER)"
   ]
  },
  {
   "cell_type": "markdown",
   "metadata": {},
   "source": [
    "-----------------\n",
    "\n",
    "# Generative AI acknowledgment.\n",
    "\n",
    "In compliance with the DS105W 🤖 [Generative AI Policy](https://lse-dsi.github.io/DS105/2023/winter-term/generative-ai.html), I declare that...\n",
    "\n"
   ]
  },
  {
   "cell_type": "markdown",
   "metadata": {},
   "source": [
    "# Task 1 - Collecting Menus\n"
   ]
  },
  {
   "cell_type": "code",
   "execution_count": 30,
   "metadata": {},
   "outputs": [
    {
     "name": "stdout",
     "output_type": "stream",
     "text": [
      "Everything is OK, status code: 200\n",
      "<!DOCTYPE html>\n",
      "\n",
      "<html lang=\"en-GB\">\n",
      "  \n",
      "  \n",
      "<head>\n",
      "\t<!-- Page-hiding snippet -->\n",
      "\t<style>.async-hide \n"
     ]
    }
   ],
   "source": [
    "#Scraping the IR Webpage\n",
    "my_url = 'https://www.lse.ac.uk/international-relations'\n",
    "response = requests.get(my_url) #This sends a GET request to the website\n",
    "response.status_code\n",
    "\n",
    "if not response.status_code == 200: #Check the status code, 200 means OK, anything else means something went wrong\n",
    "    print('Something went wrong, status code:', response.status_code)\n",
    "else:\n",
    "    print('Everything is OK, status code:', response.status_code)\n",
    "    # print the HTML code\n",
    "print(response.text[:100])\n"
   ]
  },
  {
   "cell_type": "code",
   "execution_count": 31,
   "metadata": {},
   "outputs": [
    {
     "name": "stdout",
     "output_type": "stream",
     "text": [
      "Number of elements on the page with CSS: 480\n"
     ]
    }
   ],
   "source": [
    "sel = Selector(text=response.text) #Parsing the HTML code using Scrapy Selector\n",
    "sel.get() #This selector now holds all the webpage html\n",
    "#print(sel.get())\n",
    "print('Number of elements on the page with CSS:', len(sel.css('*'))) #Printing the number of elements on the IR webpage\n",
    "\n",
    "sel.css('nav.departmentNav')\n",
    "nav = (sel.css('nav.departmentNav'))"
   ]
  },
  {
   "cell_type": "code",
   "execution_count": 32,
   "metadata": {},
   "outputs": [
    {
     "name": "stdout",
     "output_type": "stream",
     "text": [
      "['About us', 'News', 'Study', 'Events', 'People', 'Research', 'Current Students', 'Alumni', 'PhD Job Market', 'Centres and units', 'Contact us']\n",
      "11\n",
      "['https://www.lse.ac.uk//international-relations/about-us', 'https://www.lse.ac.uk//international-relations/news', 'https://www.lse.ac.uk//international-relations/study/study', 'https://www.lse.ac.uk//international-relations/ir-events', 'https://www.lse.ac.uk//international-relations/people', 'https://www.lse.ac.uk//international-relations/research', 'https://www.lse.ac.uk//international-relations/current-students', 'https://www.lse.ac.uk//international-relations/alumni', 'https://www.lse.ac.uk//international-relations/phd-job-market', 'https://www.lse.ac.uk//international-relations/centres-and-units', 'https://www.lse.ac.uk//international-relations/contact-us']\n",
      "11\n"
     ]
    }
   ],
   "source": [
    "# Extract subheadings using CSS selector\n",
    "subheadings = sel.css('nav.departmentNav ::text').extract()\n",
    "subheadingnames = subheadings[2:24:2] # Extract even-indexed elements starting from the third one, to eliminate blank text\n",
    "print(subheadingnames)\n",
    "print(len(subheadingnames)) #checking the length\n",
    "\n",
    "#Extracting the links\n",
    "parsed_links = nav[0].css('a::attr(href)').extract() #this is for the parsed links\n",
    "link_prefix = 'https://www.lse.ac.uk/' #link prefix for LSE website\n",
    "complete_links = [link_prefix + link for link in parsed_links]\n",
    "print(complete_links)\n",
    "print(len(complete_links)) #checking the length of list is the same as the edited text (subheadings)"
   ]
  },
  {
   "cell_type": "code",
   "execution_count": 33,
   "metadata": {},
   "outputs": [],
   "source": [
    "##Creating a dictionary and saving as json file:\n",
    "import json\n",
    "def menu(subheadingnames, complete_links):\n",
    "    result_dict = dict(zip(subheadingnames, complete_links))\n",
    "    with open('menu.json', 'w') as json_file:\n",
    "        json.dump(result_dict, json_file, indent =4)\n",
    "\n",
    "menu(subheadingnames, complete_links)\n",
    "file_path = \"../notebooks/menu.json\""
   ]
  },
  {
   "cell_type": "markdown",
   "metadata": {},
   "source": [
    "# Task 2 - Scraping the Schedule"
   ]
  },
  {
   "cell_type": "code",
   "execution_count": 37,
   "metadata": {},
   "outputs": [
    {
     "name": "stdout",
     "output_type": "stream",
     "text": [
      "{'About us': 'https://www.lse.ac.uk//international-relations/about-us', 'News': 'https://www.lse.ac.uk//international-relations/news', 'Study': 'https://www.lse.ac.uk//international-relations/study/study', 'Events': 'https://www.lse.ac.uk//international-relations/ir-events', 'People': 'https://www.lse.ac.uk//international-relations/people', 'Research': 'https://www.lse.ac.uk//international-relations/research', 'Current Students': 'https://www.lse.ac.uk//international-relations/current-students', 'Alumni': 'https://www.lse.ac.uk//international-relations/alumni', 'PhD Job Market': 'https://www.lse.ac.uk//international-relations/phd-job-market', 'Centres and units': 'https://www.lse.ac.uk//international-relations/centres-and-units', 'Contact us': 'https://www.lse.ac.uk//international-relations/contact-us'}\n"
     ]
    }
   ],
   "source": [
    "#Reading the json file\n",
    "file_path = \"../notebooks/menu.json\"\n",
    "with open(file_path, 'r') as file:\n",
    "    menu = json.load(file)\n",
    "    print(menu)"
   ]
  },
  {
   "cell_type": "code",
   "execution_count": 39,
   "metadata": {},
   "outputs": [],
   "source": [
    "import requests\n",
    "from scrapy import Selector  # Make sure you have the necessary import statement\n",
    "\n",
    "def get_page_info(url):\n",
    "    \"\"\"\n",
    "    Scrapes information from the International Relations LSE Webpage.\n",
    "\n",
    "    Parameters:\n",
    "    - url (str): The URL of the webpage to be scraped.\n",
    "\n",
    "    Returns:\n",
    "    list of dict: A list containing dictionaries with information extracted from the page.\n",
    "    Each dictionary includes the following keys: Department, Page Title, Box Title, Box Subtitle, Box Text, Box Image URL and Box Image Alt.\n",
    "    If any of these are not applicable / present, the dataframe entry is 'None'. \n",
    "    \"\"\"\n",
    "    response = requests.get(url)\n",
    "    sel = Selector(text=response.text)  \n",
    "    containers = sel.css('div.component__details').xpath('..')\n",
    "    output = []\n",
    "    for box in containers:\n",
    "        #print(box.extract())\n",
    "        titles = box.css('h2 span ::text').extract_first() \n",
    "        subtitles = box.css('h2').xpath('text()').extract_first()\n",
    "        subtitles = subtitles if subtitles is not None and subtitles.strip() != '' else 'None'\n",
    "        texts = box.css('p.component__summary ::text').extract_first() or 'None'\n",
    "        parsed_links = box.css('img::attr(src)').extract()  # this is for the parsed links\n",
    "        link_prefix = 'https://www.lse.ac.uk'  # link prefix for LSE website\n",
    "        image_urls = link_prefix + parsed_links[0] if parsed_links else 'None'\n",
    "        image_alts = box.css('img::attr(alt)').extract_first() or 'None'\n",
    "        \n",
    "        output.append({ \n",
    "            'Department': 'International Relations', 'Page Title': subheadingnames, 'Box Title': titles, 'Box Subtitle': subtitles, 'Box Text': texts, \"Box Image Url\": image_urls, 'Box Image Alt': image_alts})\n",
    "    \n",
    "    return output\n"
   ]
  },
  {
   "cell_type": "code",
   "execution_count": 40,
   "metadata": {},
   "outputs": [
    {
     "data": {
      "text/html": [
       "<div>\n",
       "<style scoped>\n",
       "    .dataframe tbody tr th:only-of-type {\n",
       "        vertical-align: middle;\n",
       "    }\n",
       "\n",
       "    .dataframe tbody tr th {\n",
       "        vertical-align: top;\n",
       "    }\n",
       "\n",
       "    .dataframe thead th {\n",
       "        text-align: right;\n",
       "    }\n",
       "</style>\n",
       "<table border=\"1\" class=\"dataframe\">\n",
       "  <thead>\n",
       "    <tr style=\"text-align: right;\">\n",
       "      <th></th>\n",
       "      <th>Department</th>\n",
       "      <th>Page Title</th>\n",
       "      <th>Box Title</th>\n",
       "      <th>Box Subtitle</th>\n",
       "      <th>Box Text</th>\n",
       "      <th>Box Image Url</th>\n",
       "      <th>Box Image Alt</th>\n",
       "      <th>Page URL</th>\n",
       "    </tr>\n",
       "  </thead>\n",
       "  <tbody>\n",
       "    <tr>\n",
       "      <th>0</th>\n",
       "      <td>International Relations</td>\n",
       "      <td>About us</td>\n",
       "      <td>Foundation and history of the IR Department</td>\n",
       "      <td>Learn more about our history</td>\n",
       "      <td>None</td>\n",
       "      <td>https://www.lse.ac.uk/international-relations/...</td>\n",
       "      <td>HoughtonStreetOld-16-9</td>\n",
       "      <td>https://www.lse.ac.uk//international-relations...</td>\n",
       "    </tr>\n",
       "    <tr>\n",
       "      <th>1</th>\n",
       "      <td>International Relations</td>\n",
       "      <td>About us</td>\n",
       "      <td>David Davies of Llandinam Research Fellowship</td>\n",
       "      <td>Find out more</td>\n",
       "      <td>None</td>\n",
       "      <td>https://www.lse.ac.uk/international-relations/...</td>\n",
       "      <td>David_Davies_DINAM-16-9</td>\n",
       "      <td>https://www.lse.ac.uk//international-relations...</td>\n",
       "    </tr>\n",
       "    <tr>\n",
       "      <th>2</th>\n",
       "      <td>International Relations</td>\n",
       "      <td>About us</td>\n",
       "      <td>Martin Wight memorial lecture</td>\n",
       "      <td>Find out more about the life and works of Mar...</td>\n",
       "      <td>None</td>\n",
       "      <td>https://www.lse.ac.uk/international-relations/...</td>\n",
       "      <td>wight-martin-747x420-16-9</td>\n",
       "      <td>https://www.lse.ac.uk//international-relations...</td>\n",
       "    </tr>\n",
       "    <tr>\n",
       "      <th>3</th>\n",
       "      <td>International Relations</td>\n",
       "      <td>News</td>\n",
       "      <td>IR events and podcasts</td>\n",
       "      <td>Find out what's happening in the IR Departmen...</td>\n",
       "      <td>None</td>\n",
       "      <td>https://www.lse.ac.uk/international-relations/...</td>\n",
       "      <td>event-world-disorders-747x420-16-9</td>\n",
       "      <td>https://www.lse.ac.uk//international-relations...</td>\n",
       "    </tr>\n",
       "    <tr>\n",
       "      <th>4</th>\n",
       "      <td>International Relations</td>\n",
       "      <td>News</td>\n",
       "      <td>IR Alumni community</td>\n",
       "      <td>Find out more about our alumni community and ...</td>\n",
       "      <td>None</td>\n",
       "      <td>https://www.lse.ac.uk/international-relations/...</td>\n",
       "      <td>alumni-arms-round-747x420-16-9</td>\n",
       "      <td>https://www.lse.ac.uk//international-relations...</td>\n",
       "    </tr>\n",
       "  </tbody>\n",
       "</table>\n",
       "</div>"
      ],
      "text/plain": [
       "                Department Page Title  \\\n",
       "0  International Relations   About us   \n",
       "1  International Relations   About us   \n",
       "2  International Relations   About us   \n",
       "3  International Relations       News   \n",
       "4  International Relations       News   \n",
       "\n",
       "                                       Box Title  \\\n",
       "0    Foundation and history of the IR Department   \n",
       "1  David Davies of Llandinam Research Fellowship   \n",
       "2                  Martin Wight memorial lecture   \n",
       "3                         IR events and podcasts   \n",
       "4                            IR Alumni community   \n",
       "\n",
       "                                        Box Subtitle Box Text  \\\n",
       "0                       Learn more about our history     None   \n",
       "1                                      Find out more     None   \n",
       "2   Find out more about the life and works of Mar...     None   \n",
       "3   Find out what's happening in the IR Departmen...     None   \n",
       "4   Find out more about our alumni community and ...     None   \n",
       "\n",
       "                                       Box Image Url  \\\n",
       "0  https://www.lse.ac.uk/international-relations/...   \n",
       "1  https://www.lse.ac.uk/international-relations/...   \n",
       "2  https://www.lse.ac.uk/international-relations/...   \n",
       "3  https://www.lse.ac.uk/international-relations/...   \n",
       "4  https://www.lse.ac.uk/international-relations/...   \n",
       "\n",
       "                        Box Image Alt  \\\n",
       "0              HoughtonStreetOld-16-9   \n",
       "1             David_Davies_DINAM-16-9   \n",
       "2           wight-martin-747x420-16-9   \n",
       "3  event-world-disorders-747x420-16-9   \n",
       "4      alumni-arms-round-747x420-16-9   \n",
       "\n",
       "                                            Page URL  \n",
       "0  https://www.lse.ac.uk//international-relations...  \n",
       "1  https://www.lse.ac.uk//international-relations...  \n",
       "2  https://www.lse.ac.uk//international-relations...  \n",
       "3  https://www.lse.ac.uk//international-relations...  \n",
       "4  https://www.lse.ac.uk//international-relations...  "
      ]
     },
     "execution_count": 40,
     "metadata": {},
     "output_type": "execute_result"
    }
   ],
   "source": [
    "def scrape_menu(menu):\n",
    "    \"\"\"\n",
    "    Scrapes information for each link in the provided menu using the get_page_info function.\n",
    "\n",
    "    Parameters:\n",
    "    - menu (dict): A dictionary where keys are subheading names and values are link URLs, for each of the different subheadings.\n",
    "\n",
    "    Returns:\n",
    "    pd.DataFrame: A DataFrame containing the scraped information for each link in the menu, such as Department, Page Title, Box Title, etc.\n",
    "    \"\"\"\n",
    "\n",
    "    all_data = []\n",
    "\n",
    "    for subheading, link_url in menu.items():\n",
    "        page_info = get_page_info(link_url)\n",
    "        \n",
    "        # Adding the page url to each entry\n",
    "        for item in page_info:\n",
    "            item['Page URL'] = link_url\n",
    "            item['Page Title'] = subheading\n",
    "            all_data.append(item)\n",
    "\n",
    "    df = pd.DataFrame(all_data)\n",
    "    return df\n",
    "\n",
    "# Assuming you have the 'menu' dictionary already defined\n",
    "menu = {'About us': 'https://www.lse.ac.uk//international-relations/about-us',\n",
    " 'News': 'https://www.lse.ac.uk//international-relations/news',\n",
    " 'Study': 'https://www.lse.ac.uk//international-relations/study/study',\n",
    " 'Events': 'https://www.lse.ac.uk//international-relations/ir-events',\n",
    " 'People': 'https://www.lse.ac.uk//international-relations/people',\n",
    " 'Research': 'https://www.lse.ac.uk//international-relations/research',\n",
    " 'Current Students': 'https://www.lse.ac.uk//international-relations/current-students',\n",
    " 'Alumni': 'https://www.lse.ac.uk//international-relations/alumni',\n",
    " 'PhD Job Market': 'https://www.lse.ac.uk//international-relations/phd-job-market',\n",
    " 'Centres and units': 'https://www.lse.ac.uk//international-relations/centres-and-units',\n",
    " 'Contact us': 'https://www.lse.ac.uk//international-relations/contact-us'}\n",
    "\n",
    "# Call the function to scrape information for each link in the menu\n",
    "result_df = scrape_menu(menu)\n",
    "result_df.head()"
   ]
  },
  {
   "cell_type": "code",
   "execution_count": 41,
   "metadata": {},
   "outputs": [],
   "source": [
    "result_df.to_csv('../data/boxes.csv', index=False) #saving df as a csv file called 'boxes"
   ]
  },
  {
   "cell_type": "markdown",
   "metadata": {},
   "source": [
    "# Task 3 - Downloading Images\n"
   ]
  },
  {
   "cell_type": "code",
   "execution_count": 42,
   "metadata": {},
   "outputs": [],
   "source": [
    "#Reading the menu dictionary from menu json file and reading the boxes.csv file\n",
    "file_path = \"../notebooks/menu.json\"\n",
    "with open(file_path, 'r') as file:\n",
    "    menu = json.load(file)\n",
    "\n",
    "file_path_2 = \"../data/boxes.csv\"\n",
    "with open(file_path_2, 'r') as csv_file:\n",
    "    csv_reader = csv.reader(csv_file)\n"
   ]
  },
  {
   "cell_type": "code",
   "execution_count": null,
   "metadata": {},
   "outputs": [],
   "source": [
    "# Create folders\n",
    "images_folder_path = \"../data/images\"\n",
    "menu_subheadings = ['About us', 'News', 'Study', 'Events', 'People', 'Research', 'Current Students', 'Alumni', 'PhD Job Market', 'Centres and units', 'Contact us']\n",
    "\n",
    "for item in menu_subheadings:\n",
    "    sub_folder_path = os.path.join(images_folder_path, item.lower().replace(' ', '_'))\n",
    "    if not os.path.exists(sub_folder_path):\n",
    "        os.makedirs(sub_folder_path)\n",
    "        print(f\"Sub-folder '{sub_folder_path}' created successfully.\")\n",
    "    else:\n",
    "        print(f\"Sub-folder '{sub_folder_path}' already exists.\")"
   ]
  },
  {
   "cell_type": "code",
   "execution_count": 47,
   "metadata": {},
   "outputs": [
    {
     "name": "stdout",
     "output_type": "stream",
     "text": [
      "Image saved to '../data/images/about_us/HoughtonStreetOld-16-9.jpg'\n",
      "Image saved to '../data/images/about_us/David-Davies-DINAM-16-9.jpg'\n",
      "Image saved to '../data/images/about_us/wight-martin-747x420-16-9.jpg'\n",
      "Image saved to '../data/images/news/event-world-disorders-747x420-16-9.jpg'\n",
      "Image saved to '../data/images/news/alumni-arms-round-747x420-16-9.jpg'\n",
      "Image saved to '../data/images/study/programmes-study-egi-747x420-16-9.jpg'\n",
      "Image saved to '../data/images/study/globe-old-building-discover-lse-EGI-747x420.jpg'\n",
      "Image saved to '../data/images/study/centre-building-747x420.jpg'\n",
      "Image saved to '../data/images/study/video-camera-747x420-16-9.jpg'\n",
      "Image saved to '../data/images/study/current-students-IRD-EGI-747x420-16-9.jpg'\n",
      "Image saved to '../data/images/study/lightbulb-blackboard-747x420-16-9.jpg'\n",
      "Image saved to '../data/images/events/podcast-mic-flowers-747x420-16-9.jpg'\n",
      "Image saved to '../data/images/events/podcast-kit-747x420-16-9.jpg'\n",
      "Image saved to '../data/images/events/podcast-mikes-mic-monitors-747x420-16-9.jpg'\n",
      "Image saved to '../data/images/events/phone-earphones-podcast-747x420-16-9.jpg'\n",
      "Image saved to '../data/images/events/halliday-memorial-lectures-747x420-16-9.png'\n",
      "Image saved to '../data/images/events/wight-martin-747x420-16-9.jpg'\n",
      "Image saved to '../data/images/events/strange-susan-lecture-promo-747×420px.png'\n",
      "Image saved to '../data/images/events/alumni-arms-round-747x420-16-9.jpg'\n",
      "Image saved to '../data/images/events/Calendar-16-9-Cropped-748x420.jpg'\n",
      "Image saved to '../data/images/events/linkedIn-promo-box-747x420-4-3.jpg'\n",
      "Image saved to '../data/images/people/locations-Cropped-747x420.jpg'\n",
      "Image saved to '../data/images/people/LSE-students-from-above-747x420.jpg'\n",
      "Image saved to '../data/images/people/waterloo-bridge-brighter-747x420-16-9.jpg'\n",
      "Image saved to '../data/images/people/books-and-tablet-Cropped-747x420.jpg'\n",
      "Image saved to '../data/images/research/zucker-reinventing-climate-policy-747x560-RFTW-Nov-23.jpg'\n",
      "Image saved to '../data/images/research/covid19-747x420.jpg'\n",
      "Image saved to '../data/images/research/REF-Roundal-747x420px.jpg'\n",
      "Image saved to '../data/images/research/year-unpredictable-elections-747x420.jpg'\n",
      "Image saved to '../data/images/research/myanmar-exhibition-baskets-747x420.jpg'\n",
      "Image saved to '../data/images/research/global-politics-LSE-fESTIVAL-2024-747x420-vote.jpg'\n",
      "Image saved to '../data/images/research/India-space-programme-Asian-space-race-747x420.jpg'\n",
      "Image saved to '../data/images/research/space-politics-video-747x420.jpg'\n",
      "Image saved to '../data/images/research/book-prize-winners-16-9.jpg'\n",
      "Image saved to '../data/images/research/RFTW-Martin-Bayly-india-747x420.jpg'\n",
      "Image saved to '../data/images/research/support-our-troops-747x420.jpg'\n",
      "Image saved to '../data/images/research/RFTW-March-Callahan-747x420.jpg'\n",
      "Image saved to '../data/images/research/research-planning-747x420-16-9.jpg'\n",
      "Image saved to '../data/images/research/colourful-bookshelves-747x420px-16-9.jpg'\n",
      "Image saved to '../data/images/research/students-with-globe-747-x-560-4-3.jpg'\n",
      "Image saved to '../data/images/research/fisheye-city-phd-handbook-747-x-420-16-9.jpg'\n",
      "Image saved to '../data/images/research/LSE-students-from-above-747x420.jpg'\n",
      "Image saved to '../data/images/research/job-market-iStock-network-diversity-747x420-16-9.jpg'\n",
      "Image saved to '../data/images/research/researchers-collage-747x420px-16-9.png'\n",
      "Image saved to '../data/images/research/job-market-3-corporate-747x420-16-9.jpg'\n",
      "Image saved to '../data/images/research/library-shelves-white-1200x600px-thumb.jpg'\n",
      "Image saved to '../data/images/research/international-criminal-court-1200x600px-thumbnail.jpg'\n",
      "Image saved to '../data/images/research/LSE-Library-9389-1200x600px-thumbnail.jpg'\n",
      "Image saved to '../data/images/research/bank-1816-1200x600px-thumbnail.jpg'\n",
      "Image saved to '../data/images/research/zaatri-refugee-camp-1200x600px-thumbnail.jpg'\n",
      "Image saved to '../data/images/research/spotlight-impact-header-747x420-16-9.jpg'\n",
      "Image saved to '../data/images/research/sidel-ref-impact-747x420-16-9.jpg'\n",
      "Image saved to '../data/images/research/research-impact-influencing-EU-policy-on-international-trade-agreements-747x420-16-9.jpg'\n",
      "Image saved to '../data/images/research/research-impact-strengthening-global-regulation-of-emerging-nanotechnologies-747x420-16-9.jpg'\n",
      "Image saved to '../data/images/research/research-impact-strengthening-policies-to-protect-human-rights-and-prevent-genocide-747x420-16-9.jpg'\n",
      "Image saved to '../data/images/research/David-Davies-DINAM-16-9.jpg'\n",
      "Image saved to '../data/images/research/Millennium-Logo-grey-16.9-747x420.jpeg'\n",
      "Image saved to '../data/images/research/books-thick-selective-focus-747x420-16-9.jpg'\n",
      "Image saved to '../data/images/research/Digital-TV-Wall-747-x-420-16-9.jpg'\n",
      "Image saved to '../data/images/research/waterloo-bridge-brighter-747x420-16-9.jpg'\n",
      "Image saved to '../data/images/research/IDEAS-logo-747x420-16-9.jpg'\n",
      "Image saved to '../data/images/research/MEC-logo-747x420-16-9.jpg'\n",
      "Image saved to '../data/images/research/US-Centre-logo-747x420-16-9.jpg'\n",
      "Skipping row 64: Image link is 'None' or subfolder does not exist.\n",
      "Skipping row 65: Image link is 'None' or subfolder does not exist.\n",
      "Skipping row 66: Image link is 'None' or subfolder does not exist.\n",
      "Skipping row 67: Image link is 'None' or subfolder does not exist.\n",
      "Skipping row 68: Image link is 'None' or subfolder does not exist.\n",
      "Image saved to '../data/images/research/linkedIn-promo-box-747x420-4-3.jpg'\n",
      "Image saved to '../data/images/current_students/female-students-laughing-EGI-student-news-747x560-4-3.jpg'\n",
      "Image saved to '../data/images/current_students/president-montenegro-selfie-EGI-747x420-16-9.jpg'\n",
      "Image saved to '../data/images/current_students/John-Mearsheimer-by-Nigel-Stead-LSE-Cropped-747x420.jpg'\n",
      "Image saved to '../data/images/current_students/books-and-tablet-Cropped-747x420.jpg'\n",
      "Image saved to '../data/images/current_students/student-engagement-EGI-welcome-fun-promo-747x420-16-9.jpg'\n",
      "Image saved to '../data/images/current_students/Millennium-Bridge-St-Pauls-panorama-747-x-420-16-9.jpg'\n",
      "Image saved to '../data/images/current_students/handsair-iStock-16-9.jpg'\n",
      "Image saved to '../data/images/current_students/one-to-one-guidance-support-16-9-747x420.jpg'\n",
      "Image saved to '../data/images/current_students/LSE-life-space-747x420.jpg'\n",
      "Image saved to '../data/images/current_students/female-student-studying-laptop-scarf-EGI-747x420-16-9.jpg'\n",
      "Image saved to '../data/images/current_students/wellbeing-16-9-747x420.jpg'\n",
      "Image saved to '../data/images/current_students/putting-students-1st-16-9.jpg'\n",
      "Image saved to '../data/images/current_students/EGI-students-headphone-laptops-747x420-16-9.jpg'\n",
      "Image saved to '../data/images/current_students/PhD-Academy-Entry-747x420.jpg'\n",
      "Image saved to '../data/images/current_students/linkedIn-promo-box-747x420-4-3.jpg'\n",
      "Image saved to '../data/images/alumni/IFS-internship-collage-2020-747x560-4-3.png'\n",
      "Image saved to '../data/images/alumni/featured-alumni-collage-747x420px.jpg'\n",
      "Image saved to '../data/images/alumni/girl-book-studying-shutterstock-747x420.jpg'\n",
      "Image saved to '../data/images/alumni/graduation-mortarboard-father-747x420-16-9.jpg'\n",
      "Image saved to '../data/images/alumni/Busy-open-plan-office-16-9-747-x-420.jpg'\n",
      "Image saved to '../data/images/alumni/stack-of-newspapers-747x420-16-9.jpg'\n",
      "Image saved to '../data/images/alumni/John-Mearsheimer-by-Nigel-Stead-LSE-Cropped-747x420.jpg'\n",
      "Image saved to '../data/images/alumni/podcast-mic-flowers-747x420-16-9.jpg'\n",
      "Image saved to '../data/images/alumni/linkedIn-promo-box-747x420-4-3.jpg'\n",
      "Image saved to '../data/images/phd_job_market/topsofbooks-iStock-16-9.jpg'\n",
      "Image saved to '../data/images/phd_job_market/LSE-students-from-above-747x420.jpg'\n",
      "Image saved to '../data/images/phd_job_market/Laptop-computer-with-books-pen-and-yellow-legal-pad-16-9-747x420.jpg'\n",
      "Image saved to '../data/images/phd_job_market/fisheye-city-phd-handbook-747-x-420-16-9.jpg'\n",
      "Image saved to '../data/images/phd_job_market/job-market-3-corporate-747x420-16-9.jpg'\n",
      "Image saved to '../data/images/phd_job_market/thinktankblog-747×420px.jpg'\n",
      "Image saved to '../data/images/phd_job_market/researchers-collage-747x420px-16-9.png'\n",
      "Image saved to '../data/images/phd_job_market/alumni-arms-round-747x420-16-9.jpg'\n",
      "Image saved to '../data/images/contact_us/contact-us-Cropped-747x420.jpg'\n",
      "Image saved to '../data/images/contact_us/sign-up-Cropped-747x420.jpg'\n"
     ]
    }
   ],
   "source": [
    "result_df\n",
    "\n",
    "# Loop through each row in the DataFrame\n",
    "for index, row in result_df.iterrows():\n",
    "    subheading = row['Page Title']\n",
    "    sub_folder_path = os.path.join(images_folder_path, subheading.lower().replace(' ', '_'))\n",
    "    image_link = row['Box Image Url']\n",
    "\n",
    "    # Check if the image link is not 'None' and the subfolder exists\n",
    "    if image_link != 'None' and os.path.exists(sub_folder_path):\n",
    "        # Create a filename based on the image link (you may need to customize this)\n",
    "        filename = os.path.join(sub_folder_path, os.path.basename(image_link))\n",
    "\n",
    "        # Download and save the image using shutil\n",
    "        response = requests.get(image_link, stream=True)\n",
    "        with open(filename, 'wb') as out_file:\n",
    "            shutil.copyfileobj(response.raw, out_file)\n",
    "\n",
    "        print(f\"Image saved to '{filename}'\")\n",
    "    else:\n",
    "        print(f\"Skipping row {index + 1}: Image link is 'None' or subfolder does not exist.\")\n"
   ]
  }
 ],
 "metadata": {
  "kernelspec": {
   "display_name": "ds105-w10",
   "language": "python",
   "name": "python3"
  },
  "language_info": {
   "codemirror_mode": {
    "name": "ipython",
    "version": 3
   },
   "file_extension": ".py",
   "mimetype": "text/x-python",
   "name": "python",
   "nbconvert_exporter": "python",
   "pygments_lexer": "ipython3",
   "version": "3.11.5"
  }
 },
 "nbformat": 4,
 "nbformat_minor": 2
}
